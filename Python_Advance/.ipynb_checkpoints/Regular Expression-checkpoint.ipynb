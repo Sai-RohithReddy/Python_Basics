{
 "cells": [
  {
   "cell_type": "markdown",
   "metadata": {},
   "source": [
    "# Regular Expression\n",
    "\n",
    "It is a sequence of characters(string) used for pattern(character or group of char) matching"
   ]
  },
  {
   "cell_type": "markdown",
   "metadata": {},
   "source": [
    "# Functions"
   ]
  },
  {
   "cell_type": "markdown",
   "metadata": {},
   "source": [
    "Findall()\n",
    "* Return list of all matches"
   ]
  },
  {
   "cell_type": "code",
   "execution_count": 1,
   "metadata": {},
   "outputs": [],
   "source": [
    "import re"
   ]
  },
  {
   "cell_type": "code",
   "execution_count": 7,
   "metadata": {},
   "outputs": [
    {
     "name": "stdout",
     "output_type": "stream",
     "text": [
      "['R', 'R']\n"
     ]
    }
   ],
   "source": [
    "str = 'Rohith Reddy'\n",
    "x = re.findall('R',str)\n",
    "print(x)"
   ]
  },
  {
   "cell_type": "code",
   "execution_count": 3,
   "metadata": {},
   "outputs": [
    {
     "name": "stdout",
     "output_type": "stream",
     "text": [
      "[]\n"
     ]
    }
   ],
   "source": [
    "x = re.findall('x',str)\n",
    "print(x)"
   ]
  },
  {
   "cell_type": "markdown",
   "metadata": {},
   "source": [
    " search()\n",
    "* Return MATCH OBJECTS if there are any matches\n",
    "* MATCH OBJECTS contains different methods to display results\n",
    "    1) start() -> give the position of occurrence\n",
    "    2) span() -> tuple of start and end positions of match.\n",
    "    3) string -> return the actual( string used for pattern matching) "
   ]
  },
  {
   "cell_type": "code",
   "execution_count": 10,
   "metadata": {},
   "outputs": [
    {
     "name": "stdout",
     "output_type": "stream",
     "text": [
      "<re.Match object; span=(0, 1), match='R'>\n"
     ]
    }
   ],
   "source": [
    "str = 'Rohith Reddy'\n",
    "x = re.search('R',str)\n",
    "print(x)"
   ]
  },
  {
   "cell_type": "code",
   "execution_count": 13,
   "metadata": {},
   "outputs": [
    {
     "name": "stdout",
     "output_type": "stream",
     "text": [
      "7\n"
     ]
    }
   ],
   "source": [
    "x = re.search('Reddy',str)\n",
    "print(x.start())"
   ]
  },
  {
   "cell_type": "code",
   "execution_count": 14,
   "metadata": {},
   "outputs": [
    {
     "name": "stdout",
     "output_type": "stream",
     "text": [
      "(7, 12)\n"
     ]
    }
   ],
   "source": [
    "x = re.search('Reddy',str)\n",
    "print(x.span())"
   ]
  },
  {
   "cell_type": "code",
   "execution_count": 15,
   "metadata": {},
   "outputs": [
    {
     "name": "stdout",
     "output_type": "stream",
     "text": [
      "Rohith Reddy\n"
     ]
    }
   ],
   "source": [
    "x = re.search('R',str)\n",
    "print(x.string)"
   ]
  },
  {
   "cell_type": "code",
   "execution_count": 8,
   "metadata": {},
   "outputs": [
    {
     "name": "stdout",
     "output_type": "stream",
     "text": [
      "None\n"
     ]
    }
   ],
   "source": [
    "x = re.search('x',str)\n",
    "print(x)"
   ]
  },
  {
   "cell_type": "markdown",
   "metadata": {},
   "source": [
    "split()\n",
    "* split the string from the given pattern"
   ]
  },
  {
   "cell_type": "code",
   "execution_count": 16,
   "metadata": {},
   "outputs": [
    {
     "name": "stdout",
     "output_type": "stream",
     "text": [
      "['', 'ohith ', 'eddy']\n"
     ]
    }
   ],
   "source": [
    "str = 'Rohith Reddy'\n",
    "x = re.split('R',str)\n",
    "print(x)"
   ]
  },
  {
   "cell_type": "code",
   "execution_count": 18,
   "metadata": {},
   "outputs": [
    {
     "name": "stdout",
     "output_type": "stream",
     "text": [
      "['Rohith', 'Reddy']\n"
     ]
    }
   ],
   "source": [
    "str = 'Rohith Reddy'\n",
    "x = re.split(' ',str)\n",
    "print(x)"
   ]
  },
  {
   "cell_type": "code",
   "execution_count": 19,
   "metadata": {},
   "outputs": [
    {
     "name": "stdout",
     "output_type": "stream",
     "text": [
      "['', 'R', 'o', 'h', 'i', 't', 'h', ' ', 'R', 'e', 'd', 'd', 'y', '']\n"
     ]
    }
   ],
   "source": [
    "str = 'Rohith Reddy'\n",
    "x = re.split('',str)\n",
    "print(x)"
   ]
  },
  {
   "cell_type": "code",
   "execution_count": 22,
   "metadata": {},
   "outputs": [
    {
     "name": "stdout",
     "output_type": "stream",
     "text": [
      "['Rohith', 'Reddy', 'is a footballer']\n"
     ]
    }
   ],
   "source": [
    "str = 'Rohith Reddy is a footballer'\n",
    "x = re.split(' ',str, 2)\n",
    "print(x)"
   ]
  },
  {
   "cell_type": "markdown",
   "metadata": {},
   "source": [
    "sub()\n",
    "* used to substitute new string to old string"
   ]
  },
  {
   "cell_type": "code",
   "execution_count": 23,
   "metadata": {},
   "outputs": [
    {
     "name": "stdout",
     "output_type": "stream",
     "text": [
      "Rohith Reddy is a programmer\n"
     ]
    }
   ],
   "source": [
    "str = 'Rohith Reddy is a footballer'\n",
    "x = re.sub('footballer','programmer',str)\n",
    "print(x)"
   ]
  },
  {
   "cell_type": "code",
   "execution_count": 25,
   "metadata": {},
   "outputs": [
    {
     "name": "stdout",
     "output_type": "stream",
     "text": [
      "ROhith Reddy is a fOotballer\n"
     ]
    }
   ],
   "source": [
    "str = 'Rohith Reddy is a footballer'\n",
    "x = re.sub('o','O',str, 2)\n",
    "print(x)"
   ]
  },
  {
   "cell_type": "markdown",
   "metadata": {},
   "source": [
    "# META CHARACTERS AND SPECIAL SEQUENCES AND SETS"
   ]
  },
  {
   "cell_type": "markdown",
   "metadata": {},
   "source": [
    "Meta Characters\n",
    "\n",
    "* [] - returns a match if string contains pattern/characters specified in []\n",
    "* ^ - returns a match if string starts with given pattern\n",
    "* $ - ends with\n",
    "* . - any character except new line\n",
    "* , * - zero or more occurrances\n",
    "* , + - one or more occurrances\n",
    "* {} - specified number of occurrances"
   ]
  },
  {
   "cell_type": "markdown",
   "metadata": {},
   "source": [
    "Special Sequences\n",
    "* / - special sequences\n",
    "* \\d - if given string having digits(0-9)\n",
    "* \\D - if given string does not have digits\n",
    "* \\w - if given string having word characters(a-z, A-Z, 0-9)\n",
    "* \\W - if given string does not have word characters\n",
    "* \\s - if given string having spaces\n",
    "* \\S - if given string does not have spaces\n",
    "* \\z - if given string ends with specified characters"
   ]
  },
  {
   "cell_type": "markdown",
   "metadata": {},
   "source": [
    "Sets\n",
    "* [abc] - if string contain any one of specified characters\n",
    "* [a-z] - if string contain any character in b\\w specified range\n",
    "* [^abc] - if string contain character except specified\n",
    "* [567] - if string contain any number among specified\n",
    "* [1-9] - if string contain any number in b\\w specified range\n",
    "* [0-9][0-9] - if string contain two digit number from 00 to 99"
   ]
  },
  {
   "cell_type": "code",
   "execution_count": 26,
   "metadata": {},
   "outputs": [],
   "source": [
    "import re"
   ]
  },
  {
   "cell_type": "code",
   "execution_count": 27,
   "metadata": {},
   "outputs": [
    {
     "name": "stdout",
     "output_type": "stream",
     "text": [
      "['a', 'a', 'a', 'a', 'a']\n"
     ]
    }
   ],
   "source": [
    "str = 'Example for Meta Characters in Regular Expression'\n",
    "res = re.findall(\"[a]\",str)\n",
    "print(res)"
   ]
  },
  {
   "cell_type": "code",
   "execution_count": 28,
   "metadata": {},
   "outputs": [
    {
     "name": "stdout",
     "output_type": "stream",
     "text": [
      "['i', 'n', 'i', 'n']\n"
     ]
    }
   ],
   "source": [
    "res = re.findall(\"[in]\",str)\n",
    "print(res)"
   ]
  },
  {
   "cell_type": "code",
   "execution_count": 33,
   "metadata": {},
   "outputs": [
    {
     "name": "stdout",
     "output_type": "stream",
     "text": [
      "['Example']\n"
     ]
    }
   ],
   "source": [
    "res = re.findall(\"^Example\",str)\n",
    "print(res)"
   ]
  },
  {
   "cell_type": "code",
   "execution_count": 34,
   "metadata": {},
   "outputs": [
    {
     "name": "stdout",
     "output_type": "stream",
     "text": [
      "['Expression']\n"
     ]
    }
   ],
   "source": [
    "res = re.findall(\"Expression$\",str)\n",
    "print(res)"
   ]
  },
  {
   "cell_type": "code",
   "execution_count": 35,
   "metadata": {},
   "outputs": [
    {
     "name": "stdout",
     "output_type": "stream",
     "text": [
      "['Example']\n"
     ]
    }
   ],
   "source": [
    "res = re.findall(\"Exam...\",str)\n",
    "print(res)"
   ]
  },
  {
   "cell_type": "code",
   "execution_count": 36,
   "metadata": {},
   "outputs": [
    {
     "name": "stdout",
     "output_type": "stream",
     "text": [
      "['for', 'har', 'ter', 'lar', 'xpr']\n"
     ]
    }
   ],
   "source": [
    "res = re.findall(\"..r\",str)\n",
    "print(res)"
   ]
  },
  {
   "cell_type": "code",
   "execution_count": 37,
   "metadata": {},
   "outputs": [
    {
     "name": "stdout",
     "output_type": "stream",
     "text": [
      "['', '', '', 'm', '', '', '', '', '', '', '', '', '', '', '', '', '', '', '', '', '', '', '', '', '', '', '', '', '', '', '', '', '', '', '', '', '', '', '', '', '', '', '', '', '', '', '', '', '', '']\n"
     ]
    }
   ],
   "source": [
    "res = re.findall(\"m*\",str)\n",
    "print(res)"
   ]
  },
  {
   "cell_type": "code",
   "execution_count": 38,
   "metadata": {},
   "outputs": [
    {
     "name": "stdout",
     "output_type": "stream",
     "text": [
      "['m']\n"
     ]
    }
   ],
   "source": [
    "res = re.findall(\"m+\",str)\n",
    "print(res)"
   ]
  },
  {
   "cell_type": "code",
   "execution_count": 49,
   "metadata": {},
   "outputs": [
    {
     "name": "stdout",
     "output_type": "stream",
     "text": [
      "['e', 'ee', 'e', 'ee']\n"
     ]
    }
   ],
   "source": [
    "str1 = '123 friend in need is a friend in deed'\n",
    "res = re.findall(\"ee*\",str1)\n",
    "print(res)"
   ]
  },
  {
   "cell_type": "code",
   "execution_count": 42,
   "metadata": {},
   "outputs": [
    {
     "name": "stdout",
     "output_type": "stream",
     "text": [
      "['ee', 'ee']\n"
     ]
    }
   ],
   "source": [
    "res = re.findall(\"ee+\",str1)\n",
    "print(res)"
   ]
  },
  {
   "cell_type": "code",
   "execution_count": 46,
   "metadata": {},
   "outputs": [
    {
     "name": "stdout",
     "output_type": "stream",
     "text": [
      "['ee', 'ee']\n"
     ]
    }
   ],
   "source": [
    "res = re.findall(\"e{2}\",str1)\n",
    "print(res)"
   ]
  },
  {
   "cell_type": "code",
   "execution_count": 47,
   "metadata": {},
   "outputs": [
    {
     "name": "stdout",
     "output_type": "stream",
     "text": [
      "[' ', ' ', ' ', ' ', ' ', ' ', ' ']\n"
     ]
    }
   ],
   "source": [
    "res = re.findall(\"\\s\",str1)\n",
    "print(res)"
   ]
  },
  {
   "cell_type": "code",
   "execution_count": 48,
   "metadata": {},
   "outputs": [
    {
     "name": "stdout",
     "output_type": "stream",
     "text": [
      "['f', 'r', 'i', 'e', 'n', 'd', 'i', 'n', 'n', 'e', 'e', 'd', 'i', 's', 'a', 'f', 'r', 'i', 'e', 'n', 'd', 'i', 'n', 'd', 'e', 'e', 'd']\n"
     ]
    }
   ],
   "source": [
    "res = re.findall(\"\\S\",str1)\n",
    "print(res)"
   ]
  },
  {
   "cell_type": "code",
   "execution_count": 50,
   "metadata": {},
   "outputs": [
    {
     "name": "stdout",
     "output_type": "stream",
     "text": [
      "['1', '2', '3']\n"
     ]
    }
   ],
   "source": [
    "res = re.findall(\"\\d\",str1)\n",
    "print(res)"
   ]
  },
  {
   "cell_type": "code",
   "execution_count": 51,
   "metadata": {},
   "outputs": [
    {
     "name": "stdout",
     "output_type": "stream",
     "text": [
      "[' ', 'f', 'r', 'i', 'e', 'n', 'd', ' ', 'i', 'n', ' ', 'n', 'e', 'e', 'd', ' ', 'i', 's', ' ', 'a', ' ', 'f', 'r', 'i', 'e', 'n', 'd', ' ', 'i', 'n', ' ', 'd', 'e', 'e', 'd']\n"
     ]
    }
   ],
   "source": [
    "res = re.findall(\"\\D\",str1)\n",
    "print(res)"
   ]
  },
  {
   "cell_type": "code",
   "execution_count": 52,
   "metadata": {},
   "outputs": [
    {
     "name": "stdout",
     "output_type": "stream",
     "text": [
      "['1', '2', '3', 'f', 'r', 'i', 'e', 'n', 'd', 'i', 'n', 'n', 'e', 'e', 'd', 'i', 's', 'a', 'f', 'r', 'i', 'e', 'n', 'd', 'i', 'n', 'd', 'e', 'e', 'd']\n"
     ]
    }
   ],
   "source": [
    "res = re.findall(\"\\w\",str1)\n",
    "print(res)"
   ]
  },
  {
   "cell_type": "code",
   "execution_count": 53,
   "metadata": {},
   "outputs": [
    {
     "name": "stdout",
     "output_type": "stream",
     "text": [
      "[' ', ' ', ' ', ' ', ' ', ' ', ' ', ' ']\n"
     ]
    }
   ],
   "source": [
    "res = re.findall(\"\\W\",str1)\n",
    "print(res)"
   ]
  },
  {
   "cell_type": "code",
   "execution_count": 54,
   "metadata": {},
   "outputs": [
    {
     "name": "stdout",
     "output_type": "stream",
     "text": [
      "['1', '2', '3']\n"
     ]
    }
   ],
   "source": [
    "res = re.findall(\"[123]\",str1)\n",
    "print(res)"
   ]
  },
  {
   "cell_type": "code",
   "execution_count": 55,
   "metadata": {},
   "outputs": [
    {
     "name": "stdout",
     "output_type": "stream",
     "text": [
      "[' ', 'f', 'r', 'i', 'e', 'n', 'd', ' ', 'i', 'n', ' ', 'n', 'e', 'e', 'd', ' ', 'i', 's', ' ', 'a', ' ', 'f', 'r', 'i', 'e', 'n', 'd', ' ', 'i', 'n', ' ', 'd', 'e', 'e', 'd']\n"
     ]
    }
   ],
   "source": [
    "res = re.findall(\"[^123]\",str1)\n",
    "print(res)"
   ]
  },
  {
   "cell_type": "code",
   "execution_count": 56,
   "metadata": {},
   "outputs": [
    {
     "name": "stdout",
     "output_type": "stream",
     "text": [
      "['1', '2', '3']\n"
     ]
    }
   ],
   "source": [
    "res = re.findall(\"[0-9]\",str1)\n",
    "print(res)"
   ]
  },
  {
   "cell_type": "code",
   "execution_count": 58,
   "metadata": {},
   "outputs": [
    {
     "name": "stdout",
     "output_type": "stream",
     "text": [
      "['123']\n"
     ]
    }
   ],
   "source": [
    "res = re.findall(\"[0-9][0-9][0-9]\",str1)\n",
    "print(res)"
   ]
  },
  {
   "cell_type": "code",
   "execution_count": null,
   "metadata": {},
   "outputs": [],
   "source": []
  }
 ],
 "metadata": {
  "kernelspec": {
   "display_name": "Python 3",
   "language": "python",
   "name": "python3"
  },
  "language_info": {
   "codemirror_mode": {
    "name": "ipython",
    "version": 3
   },
   "file_extension": ".py",
   "mimetype": "text/x-python",
   "name": "python",
   "nbconvert_exporter": "python",
   "pygments_lexer": "ipython3",
   "version": "3.8.5"
  }
 },
 "nbformat": 4,
 "nbformat_minor": 4
}
