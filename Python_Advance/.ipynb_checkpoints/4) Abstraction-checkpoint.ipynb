{
 "cells": [
  {
   "cell_type": "markdown",
   "metadata": {},
   "source": [
    "# Abstraction\n",
    "* Showing only the essential parts and hiding the implementation(only function call with empty defination)\n",
    "* if we want to abstraction then we need to import abc module 'abstract base class'. It contains ABC class.\n",
    "* If we want to implement then we need to use decorator @abstract method\n",
    "* here object will not create. If we want to create a object then we need to convert abstract class to concrete class(no abstract methods)"
   ]
  },
  {
   "cell_type": "code",
   "execution_count": 1,
   "metadata": {},
   "outputs": [],
   "source": [
    "from abc import ABC,abstractclassmethod\n",
    "\n",
    "class AbstractDemo(ABC):       #Abstract class\n",
    "    @abstractclassmethod\n",
    "    def HousingInterest(self): # Abstract method\n",
    "        None\n",
    "    @abstractclassmethod\n",
    "    def VehicleInterest(self):\n",
    "        None"
   ]
  },
  {
   "cell_type": "code",
   "execution_count": 2,
   "metadata": {},
   "outputs": [
    {
     "ename": "TypeError",
     "evalue": "Can't instantiate abstract class AbstractDemo with abstract methods HousingInterest, VehicleInterest",
     "output_type": "error",
     "traceback": [
      "\u001b[1;31m---------------------------------------------------------------------------\u001b[0m",
      "\u001b[1;31mTypeError\u001b[0m                                 Traceback (most recent call last)",
      "\u001b[1;32m<ipython-input-2-c4a2f6ee8e2f>\u001b[0m in \u001b[0;36m<module>\u001b[1;34m\u001b[0m\n\u001b[1;32m----> 1\u001b[1;33m \u001b[0mobj\u001b[0m \u001b[1;33m=\u001b[0m \u001b[0mAbstractDemo\u001b[0m\u001b[1;33m(\u001b[0m\u001b[1;33m)\u001b[0m\u001b[1;31m#error\u001b[0m\u001b[1;33m\u001b[0m\u001b[1;33m\u001b[0m\u001b[0m\n\u001b[0m",
      "\u001b[1;31mTypeError\u001b[0m: Can't instantiate abstract class AbstractDemo with abstract methods HousingInterest, VehicleInterest"
     ]
    }
   ],
   "source": [
    "obj = AbstractDemo()#error"
   ]
  },
  {
   "cell_type": "code",
   "execution_count": 5,
   "metadata": {},
   "outputs": [
    {
     "name": "stdout",
     "output_type": "stream",
     "text": [
      "Housing Interest 8.5%\n",
      "Vehicle Interest 5.5%\n",
      "Housing Interest 8.8%\n",
      "Vehicle Interest 5.0%\n"
     ]
    }
   ],
   "source": [
    "from abc import ABC,abstractclassmethod\n",
    "\n",
    "class AbstractDemo(ABC):       #Abstract class\n",
    "    @abstractclassmethod\n",
    "    def HousingInterest(self): #Abstract method\n",
    "        None\n",
    "    @abstractclassmethod\n",
    "    def VehicleInterest(self):\n",
    "        None\n",
    "\n",
    "class SBH(AbstractDemo):       #this will be still a abstract class because here all methods havent bee overrided\n",
    "    def HousingInterest(self):\n",
    "        print('Housing Interest 8.5%')        \n",
    "        \n",
    "class SBI(AbstractDemo):       #Concrete class\n",
    "    def HousingInterest(self):\n",
    "        print('Housing Interest 8.5%')\n",
    "    def VehicleInterest(self):\n",
    "        print('Vehicle Interest 5.5%')\n",
    "\n",
    "sbiobj = SBI()\n",
    "sbiobj.HousingInterest()\n",
    "sbiobj.VehicleInterest()\n",
    "\n",
    "class ICICI(AbstractDemo):       #Concrete class\n",
    "    def HousingInterest(self):\n",
    "        print('Housing Interest 8.8%')\n",
    "    def VehicleInterest(self):\n",
    "        print('Vehicle Interest 5.0%')\n",
    "        \n",
    "iciciobh = ICICI()\n",
    "iciciobh.HousingInterest()\n",
    "iciciobh.VehicleInterest()"
   ]
  },
  {
   "cell_type": "code",
   "execution_count": 6,
   "metadata": {},
   "outputs": [
    {
     "ename": "TypeError",
     "evalue": "Can't instantiate abstract class SBH with abstract methods VehicleInterest",
     "output_type": "error",
     "traceback": [
      "\u001b[1;31m---------------------------------------------------------------------------\u001b[0m",
      "\u001b[1;31mTypeError\u001b[0m                                 Traceback (most recent call last)",
      "\u001b[1;32m<ipython-input-6-85083c4e17be>\u001b[0m in \u001b[0;36m<module>\u001b[1;34m\u001b[0m\n\u001b[1;32m----> 1\u001b[1;33m \u001b[0msbhogj\u001b[0m \u001b[1;33m=\u001b[0m \u001b[0mSBH\u001b[0m\u001b[1;33m(\u001b[0m\u001b[1;33m)\u001b[0m\u001b[1;33m\u001b[0m\u001b[1;33m\u001b[0m\u001b[0m\n\u001b[0m",
      "\u001b[1;31mTypeError\u001b[0m: Can't instantiate abstract class SBH with abstract methods VehicleInterest"
     ]
    }
   ],
   "source": [
    "sbhogj = SBH()"
   ]
  },
  {
   "cell_type": "code",
   "execution_count": null,
   "metadata": {},
   "outputs": [],
   "source": []
  }
 ],
 "metadata": {
  "kernelspec": {
   "display_name": "Python 3",
   "language": "python",
   "name": "python3"
  },
  "language_info": {
   "codemirror_mode": {
    "name": "ipython",
    "version": 3
   },
   "file_extension": ".py",
   "mimetype": "text/x-python",
   "name": "python",
   "nbconvert_exporter": "python",
   "pygments_lexer": "ipython3",
   "version": "3.8.5"
  }
 },
 "nbformat": 4,
 "nbformat_minor": 4
}
