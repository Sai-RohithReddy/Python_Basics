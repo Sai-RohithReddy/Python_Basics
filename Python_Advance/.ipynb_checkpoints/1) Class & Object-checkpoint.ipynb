{
 "cells": [
  {
   "cell_type": "markdown",
   "metadata": {},
   "source": [
    "# Class\n",
    "Theyare are called Logical Entity('blue print' in simple words), they contains three compartments.\n",
    "* Name\n",
    "* Attributes/Properties\n",
    "* Functions/Methods\n",
    "\n",
    "Consider an example to understand Class.\n",
    "* Let us take a car, here car will be NAME.\n",
    "* Brand, Fuel Type,Color, Wheeltype,.. will be PROPERTIES/ATTRIBUTES\n",
    "* moving(), reverse(),.. will be FUMCTIONS/MWTHODS"
   ]
  },
  {
   "cell_type": "code",
   "execution_count": 1,
   "metadata": {},
   "outputs": [],
   "source": [
    "class human:\n",
    "    color = 'White'\n",
    "    height = 5.10\n",
    "    \n",
    "    def run(self):\n",
    "        print('running...')\n",
    "        \n",
    "    def walk(self):\n",
    "        print('walking...')"
   ]
  },
  {
   "cell_type": "markdown",
   "metadata": {},
   "source": [
    "# Object\n",
    "They are physical entitys which follows the class(they are also call as Instance of class)\n",
    "EX: \n",
    "\n",
    " Class                             Object\n",
    "\n",
    "Human(name)                        man   \n",
    "\n",
    "name(attributes)                   nani\n",
    "weight                             75 kgs \n",
    "height                             5.10\n",
    "color                              white\n",
    "\n",
    "walk()(functions)                  walk() \n",
    "run()                              run()\n",
    "sit()                              sit() "
   ]
  },
  {
   "cell_type": "code",
   "execution_count": 2,
   "metadata": {},
   "outputs": [],
   "source": [
    "nani = human()"
   ]
  },
  {
   "cell_type": "code",
   "execution_count": 3,
   "metadata": {},
   "outputs": [
    {
     "name": "stdout",
     "output_type": "stream",
     "text": [
      "White 5.1\n"
     ]
    }
   ],
   "source": [
    "print(nani.color, nani.height)"
   ]
  },
  {
   "cell_type": "code",
   "execution_count": 5,
   "metadata": {},
   "outputs": [
    {
     "name": "stdout",
     "output_type": "stream",
     "text": [
      "running...\n",
      "None\n"
     ]
    }
   ],
   "source": [
    "print(nani.run())"
   ]
  },
  {
   "cell_type": "code",
   "execution_count": 6,
   "metadata": {},
   "outputs": [
    {
     "name": "stdout",
     "output_type": "stream",
     "text": [
      "walking...\n"
     ]
    }
   ],
   "source": [
    "nani.walk()"
   ]
  },
  {
   "cell_type": "markdown",
   "metadata": {},
   "source": [
    "# Constructor\n",
    "It will execute immediately once we create an object. "
   ]
  },
  {
   "cell_type": "code",
   "execution_count": 10,
   "metadata": {},
   "outputs": [
    {
     "name": "stdout",
     "output_type": "stream",
     "text": [
      "constructro\n"
     ]
    }
   ],
   "source": [
    "class human: # we need to use __init__()\n",
    "    print(\"constructro\")\n",
    "    \n",
    "nani = human()\n",
    "sandeep = human()"
   ]
  },
  {
   "cell_type": "code",
   "execution_count": 9,
   "metadata": {},
   "outputs": [
    {
     "name": "stdout",
     "output_type": "stream",
     "text": [
      "constructor\n",
      "constructor\n"
     ]
    }
   ],
   "source": [
    "class human:\n",
    "    def __init__(self):\n",
    "        print('constructor')\n",
    "        \n",
    "nani = human()\n",
    "sandeep = human()"
   ]
  },
  {
   "cell_type": "code",
   "execution_count": 1,
   "metadata": {},
   "outputs": [
    {
     "name": "stdout",
     "output_type": "stream",
     "text": [
      "brown 5.1\n",
      "white 5.11\n",
      "slow running...\n",
      "nani running...\n"
     ]
    }
   ],
   "source": [
    "class human():\n",
    "    def __init__(self,c,h):\n",
    "        self.color=c\n",
    "        self.height=h\n",
    "        \n",
    "    def run(self, n = 'Fast'):\n",
    "        print(n,\"running...\")\n",
    "        \n",
    "nani = human('brown',5.10)\n",
    "print(nani.color, nani.height)\n",
    "\n",
    "sandeep = human('white',5.11)\n",
    "print(sandeep.color, sandeep.height)\n",
    "\n",
    "sandeep.run('slow')\n",
    "nani.run('nani')"
   ]
  },
  {
   "cell_type": "code",
   "execution_count": null,
   "metadata": {},
   "outputs": [],
   "source": []
  },
  {
   "cell_type": "code",
   "execution_count": null,
   "metadata": {},
   "outputs": [],
   "source": []
  }
 ],
 "metadata": {
  "kernelspec": {
   "display_name": "Python 3",
   "language": "python",
   "name": "python3"
  },
  "language_info": {
   "codemirror_mode": {
    "name": "ipython",
    "version": 3
   },
   "file_extension": ".py",
   "mimetype": "text/x-python",
   "name": "python",
   "nbconvert_exporter": "python",
   "pygments_lexer": "ipython3",
   "version": "3.8.5"
  }
 },
 "nbformat": 4,
 "nbformat_minor": 4
}
