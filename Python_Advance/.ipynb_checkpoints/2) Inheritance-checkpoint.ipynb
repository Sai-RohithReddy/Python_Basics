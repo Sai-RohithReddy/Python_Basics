{
 "cells": [
  {
   "cell_type": "markdown",
   "metadata": {},
   "source": [
    "# Inheritance\n",
    "In simple words we can consider it as Parent(base class)-Child(derived class) relation ship.\n",
    "* Inherirance means child class aquiring properties of parent class"
   ]
  },
  {
   "cell_type": "code",
   "execution_count": 1,
   "metadata": {},
   "outputs": [
    {
     "name": "stdout",
     "output_type": "stream",
     "text": [
      "10 100\n",
      "BASE CLASS\n"
     ]
    }
   ],
   "source": [
    "#without inheritance(both are independent classes)\n",
    "class baseClass:\n",
    "    a = 10\n",
    "    b = 100\n",
    "    def display(self):\n",
    "        print('BASE CLASS')\n",
    "class derivedClass:\n",
    "    c = 20\n",
    "    d = 200\n",
    "    def show(self):\n",
    "        print('DERIVED CLASS')\n",
    "        \n",
    "bobject = baseClass()\n",
    "print(bobject.a, bobject.b)\n",
    "bobject.display()"
   ]
  },
  {
   "cell_type": "code",
   "execution_count": 2,
   "metadata": {},
   "outputs": [
    {
     "ename": "AttributeError",
     "evalue": "'baseClass' object has no attribute 'c'",
     "output_type": "error",
     "traceback": [
      "\u001b[1;31m---------------------------------------------------------------------------\u001b[0m",
      "\u001b[1;31mAttributeError\u001b[0m                            Traceback (most recent call last)",
      "\u001b[1;32m<ipython-input-2-38cfa9b23ea6>\u001b[0m in \u001b[0;36m<module>\u001b[1;34m\u001b[0m\n\u001b[1;32m----> 1\u001b[1;33m \u001b[0mbobject\u001b[0m\u001b[1;33m.\u001b[0m\u001b[0mc\u001b[0m\u001b[1;33m\u001b[0m\u001b[1;33m\u001b[0m\u001b[0m\n\u001b[0m",
      "\u001b[1;31mAttributeError\u001b[0m: 'baseClass' object has no attribute 'c'"
     ]
    }
   ],
   "source": [
    "bobject.c"
   ]
  },
  {
   "cell_type": "code",
   "execution_count": 4,
   "metadata": {},
   "outputs": [
    {
     "name": "stdout",
     "output_type": "stream",
     "text": [
      "20 200\n",
      "DERIVED CLASS\n"
     ]
    },
    {
     "ename": "AttributeError",
     "evalue": "'derivedClass' object has no attribute 'a'",
     "output_type": "error",
     "traceback": [
      "\u001b[1;31m---------------------------------------------------------------------------\u001b[0m",
      "\u001b[1;31mAttributeError\u001b[0m                            Traceback (most recent call last)",
      "\u001b[1;32m<ipython-input-4-8ff2b7ff96cc>\u001b[0m in \u001b[0;36m<module>\u001b[1;34m\u001b[0m\n\u001b[0;32m      5\u001b[0m \u001b[0mdobject\u001b[0m\u001b[1;33m.\u001b[0m\u001b[0mshow\u001b[0m\u001b[1;33m(\u001b[0m\u001b[1;33m)\u001b[0m\u001b[1;33m\u001b[0m\u001b[1;33m\u001b[0m\u001b[0m\n\u001b[0;32m      6\u001b[0m \u001b[1;33m\u001b[0m\u001b[0m\n\u001b[1;32m----> 7\u001b[1;33m \u001b[0mprint\u001b[0m\u001b[1;33m(\u001b[0m\u001b[0mdobject\u001b[0m\u001b[1;33m.\u001b[0m\u001b[0ma\u001b[0m\u001b[1;33m,\u001b[0m \u001b[0mdobject\u001b[0m\u001b[1;33m.\u001b[0m\u001b[0mb\u001b[0m\u001b[1;33m)\u001b[0m\u001b[1;33m\u001b[0m\u001b[1;33m\u001b[0m\u001b[0m\n\u001b[0m\u001b[0;32m      8\u001b[0m \u001b[0mdobject\u001b[0m\u001b[1;33m.\u001b[0m\u001b[0mdisplay\u001b[0m\u001b[1;33m(\u001b[0m\u001b[1;33m)\u001b[0m\u001b[1;33m\u001b[0m\u001b[1;33m\u001b[0m\u001b[0m\n",
      "\u001b[1;31mAttributeError\u001b[0m: 'derivedClass' object has no attribute 'a'"
     ]
    }
   ],
   "source": [
    "#without inheriting we are accessing the classes it will throw an error\n",
    "dobject = derivedClass()\n",
    "\n",
    "print(dobject.c, dobject.d)\n",
    "dobject.show()\n",
    "\n",
    "print(dobject.a, dobject.b)\n",
    "dobject.display()"
   ]
  },
  {
   "cell_type": "markdown",
   "metadata": {},
   "source": [
    "# Single Inheritance\n",
    "It contains one Base class and one Derived class\n",
    "\n",
    "* Base class(parent)  -->  Derived class(child)"
   ]
  },
  {
   "cell_type": "code",
   "execution_count": 3,
   "metadata": {},
   "outputs": [
    {
     "name": "stdout",
     "output_type": "stream",
     "text": [
      "20 200\n",
      "DERIVED CLASS\n",
      "10 100\n",
      "BASE CLASS\n"
     ]
    }
   ],
   "source": [
    "# with inheritance\n",
    "class baseClass: # PARENT CLASS\n",
    "    a = 10\n",
    "    b = 100\n",
    "    def display(self):\n",
    "        print('BASE CLASS')\n",
    "class derivedClass(baseClass): #CHILD CLASS\n",
    "    c = 20\n",
    "    d = 200\n",
    "    def show(self):\n",
    "        print('DERIVED CLASS')\n",
    "        \n",
    "dobject = derivedClass()\n",
    "\n",
    "print(dobject.c, dobject.d)\n",
    "dobject.show()\n",
    "\n",
    "print(dobject.a, dobject.b)\n",
    "dobject.display()"
   ]
  },
  {
   "cell_type": "code",
   "execution_count": 4,
   "metadata": {},
   "outputs": [
    {
     "name": "stdout",
     "output_type": "stream",
     "text": [
      "10 200\n"
     ]
    }
   ],
   "source": [
    "print(dobject.a, dobject.d)"
   ]
  },
  {
   "cell_type": "markdown",
   "metadata": {},
   "source": [
    "# Multilevel Inheritance\n",
    "\n",
    "* Base class(grandparent)  -->  Derived class(parent)  -->  Derived class(child)"
   ]
  },
  {
   "cell_type": "code",
   "execution_count": 6,
   "metadata": {},
   "outputs": [
    {
     "name": "stdout",
     "output_type": "stream",
     "text": [
      "CHILD METHOD\n",
      "PARENT METHOD\n",
      "GRAND PARENT METHOD\n"
     ]
    }
   ],
   "source": [
    "class grandParent:\n",
    "    def gpdisplay(self):\n",
    "        print(\"GRAND PARENT METHOD\")\n",
    "class parent(grandParent):\n",
    "    def pdisplay(self):\n",
    "        print('PARENT METHOD')\n",
    "class child(parent):\n",
    "    def cdisplay(self):\n",
    "        print('CHILD METHOD')\n",
    "        \n",
    "c = child()\n",
    "c.cdisplay()\n",
    "c.pdisplay()\n",
    "c.gpdisplay()"
   ]
  },
  {
   "cell_type": "code",
   "execution_count": 11,
   "metadata": {},
   "outputs": [
    {
     "name": "stdout",
     "output_type": "stream",
     "text": [
      "PARENT METHOD\n",
      "GRAND PARENT METHOD\n"
     ]
    },
    {
     "ename": "AttributeError",
     "evalue": "'parent' object has no attribute 'cdisplay'",
     "output_type": "error",
     "traceback": [
      "\u001b[1;31m---------------------------------------------------------------------------\u001b[0m",
      "\u001b[1;31mAttributeError\u001b[0m                            Traceback (most recent call last)",
      "\u001b[1;32m<ipython-input-11-3fd61629c9b8>\u001b[0m in \u001b[0;36m<module>\u001b[1;34m\u001b[0m\n\u001b[0;32m      3\u001b[0m \u001b[0mp\u001b[0m\u001b[1;33m.\u001b[0m\u001b[0mpdisplay\u001b[0m\u001b[1;33m(\u001b[0m\u001b[1;33m)\u001b[0m\u001b[1;33m\u001b[0m\u001b[1;33m\u001b[0m\u001b[0m\n\u001b[0;32m      4\u001b[0m \u001b[0mp\u001b[0m\u001b[1;33m.\u001b[0m\u001b[0mgpdisplay\u001b[0m\u001b[1;33m(\u001b[0m\u001b[1;33m)\u001b[0m\u001b[1;33m\u001b[0m\u001b[1;33m\u001b[0m\u001b[0m\n\u001b[1;32m----> 5\u001b[1;33m \u001b[0mp\u001b[0m\u001b[1;33m.\u001b[0m\u001b[0mcdisplay\u001b[0m\u001b[1;33m(\u001b[0m\u001b[1;33m)\u001b[0m\u001b[1;31m#error here\u001b[0m\u001b[1;33m\u001b[0m\u001b[1;33m\u001b[0m\u001b[0m\n\u001b[0m",
      "\u001b[1;31mAttributeError\u001b[0m: 'parent' object has no attribute 'cdisplay'"
     ]
    }
   ],
   "source": [
    "p = parent()\n",
    "\n",
    "p.pdisplay()\n",
    "p.gpdisplay()\n",
    "p.cdisplay()#error here"
   ]
  },
  {
   "cell_type": "markdown",
   "metadata": {},
   "source": [
    "# Hierarchical Inheritance\n",
    "                         \n",
    "*                    |-->Derived class(child 1)  \n",
    "* Base class(parent)-|\n",
    "*                    |-->Derived class(child 2)"
   ]
  },
  {
   "cell_type": "code",
   "execution_count": 14,
   "metadata": {},
   "outputs": [
    {
     "name": "stdout",
     "output_type": "stream",
     "text": [
      "SON CLASS\n",
      "PARENT CLASS\n",
      "DAUGHTER CLASS\n",
      "PARENT CLASS\n",
      "PARENT CLASS\n"
     ]
    }
   ],
   "source": [
    "class parent:\n",
    "    def pdisplay(self):\n",
    "        print('PARENT CLASS')\n",
    "class son(parent):\n",
    "    def sdisplay(self):\n",
    "        print('SON CLASS')\n",
    "class daughter(parent):\n",
    "    def ddisplay(self):\n",
    "        print('DAUGHTER CLASS')\n",
    "\n",
    "s = son()\n",
    "s.sdisplay()\n",
    "s.pdisplay()\n",
    "\n",
    "d = daughter()\n",
    "d.ddisplay()\n",
    "d.pdisplay()\n",
    "\n",
    "p = parent()\n",
    "p.pdisplay()"
   ]
  },
  {
   "cell_type": "markdown",
   "metadata": {},
   "source": [
    "# Multiple Inheritance\n",
    "\n",
    "* Base class 1(parent 1)     Base class 2(parent 2)\n",
    "*                Derived class(child)"
   ]
  },
  {
   "cell_type": "code",
   "execution_count": 17,
   "metadata": {},
   "outputs": [
    {
     "name": "stdout",
     "output_type": "stream",
     "text": [
      "CHILD CLASS\n",
      "MOTHER CLASS\n",
      "FATHER CLASS\n",
      "MOTHER CLASS\n",
      "FATHER CLASS\n"
     ]
    }
   ],
   "source": [
    "class Father:\n",
    "    def fdiaplay(self):\n",
    "        print(\"FATHER CLASS\")\n",
    "class Mother:\n",
    "    def mdisplay(self):\n",
    "        print(\"MOTHER CLASS\")\n",
    "class Child(Father,Mother):\n",
    "    def cdisplay(self):\n",
    "        print('CHILD CLASS')\n",
    "\n",
    "c = Child()\n",
    "c.cdisplay()\n",
    "c.mdisplay()\n",
    "c.fdiaplay()\n",
    "\n",
    "m = Mother()\n",
    "m.mdisplay()\n",
    "\n",
    "f = Father()\n",
    "f.fdiaplay()"
   ]
  },
  {
   "cell_type": "code",
   "execution_count": null,
   "metadata": {},
   "outputs": [],
   "source": []
  }
 ],
 "metadata": {
  "kernelspec": {
   "display_name": "Python 3",
   "language": "python",
   "name": "python3"
  },
  "language_info": {
   "codemirror_mode": {
    "name": "ipython",
    "version": 3
   },
   "file_extension": ".py",
   "mimetype": "text/x-python",
   "name": "python",
   "nbconvert_exporter": "python",
   "pygments_lexer": "ipython3",
   "version": "3.8.5"
  }
 },
 "nbformat": 4,
 "nbformat_minor": 4
}
