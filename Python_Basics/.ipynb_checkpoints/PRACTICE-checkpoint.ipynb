{
 "cells": [
  {
   "cell_type": "code",
   "execution_count": 1,
   "metadata": {},
   "outputs": [
    {
     "name": "stdout",
     "output_type": "stream",
     "text": [
      "enter a value: 10\n",
      "enter b value: 20\n",
      "30\n"
     ]
    }
   ],
   "source": [
    "# first method\n",
    "a = int(input('enter a value: '))\n",
    "b = int(input('enter b value: '))\n",
    "c = a+b\n",
    "print(c)"
   ]
  },
  {
   "cell_type": "code",
   "execution_count": 60,
   "metadata": {},
   "outputs": [
    {
     "name": "stdout",
     "output_type": "stream",
     "text": [
      "enter a value: 10\n",
      "enter b value: 20\n",
      "30\n"
     ]
    }
   ],
   "source": [
    "# second method\n",
    "a = input('enter a value: ')\n",
    "b = input('enter b value: ')\n",
    "c = int(a)+int(b)\n",
    "print(c)"
   ]
  },
  {
   "cell_type": "code",
   "execution_count": 61,
   "metadata": {},
   "outputs": [
    {
     "name": "stdout",
     "output_type": "stream",
     "text": [
      "enter a value: 10\n",
      "enter b value: 20\n",
      "30\n"
     ]
    }
   ],
   "source": [
    "# third method\n",
    "a = int(input('enter a value: '))\n",
    "b = int(input('enter b value: '))\n",
    "print(a+b)"
   ]
  },
  {
   "cell_type": "code",
   "execution_count": 62,
   "metadata": {},
   "outputs": [
    {
     "name": "stdout",
     "output_type": "stream",
     "text": [
      "enter a value: 10\n",
      "enter b value: 20\n",
      "30\n"
     ]
    }
   ],
   "source": [
    "# forth method\n",
    "a = input('enter a value: ')\n",
    "b = input('enter b value: ')\n",
    "print(int(a)+int(b))"
   ]
  },
  {
   "cell_type": "code",
   "execution_count": null,
   "metadata": {},
   "outputs": [],
   "source": [
    "while True:\n",
    "    try:\n",
    "        hours = int(input(\"Enter Hours: \"))\n",
    "        rate = int(input(\"Enter Rate: \"))\n",
    "\n",
    "        if hours > 40:\n",
    "            print(\"pay: \",(hours * rate) + (hours - 40 * .5))\n",
    "            break\n",
    "        elif hours < 40:\n",
    "            print(\"pay: \",hours * rate)\n",
    "            break\n",
    "\n",
    "    except:\n",
    "        print(\"Error, please enter numeric input\")\n",
    "        \n",
    "        responce = input(\"Do you want to continue? /nEnter 'yes' or 'no'\")\n",
    "        if responce == 'yes': continue\n",
    "        else: break"
   ]
  }
 ],
 "metadata": {
  "kernelspec": {
   "display_name": "Python 3 (ipykernel)",
   "language": "python",
   "name": "python3"
  },
  "language_info": {
   "codemirror_mode": {
    "name": "ipython",
    "version": 3
   },
   "file_extension": ".py",
   "mimetype": "text/x-python",
   "name": "python",
   "nbconvert_exporter": "python",
   "pygments_lexer": "ipython3",
   "version": "3.9.12"
  }
 },
 "nbformat": 4,
 "nbformat_minor": 4
}
