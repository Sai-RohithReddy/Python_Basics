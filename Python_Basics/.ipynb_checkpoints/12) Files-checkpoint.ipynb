{
 "cells": [
  {
   "cell_type": "markdown",
   "metadata": {},
   "source": [
    "Opening a File, Access Modes, Closing File"
   ]
  },
  {
   "cell_type": "code",
   "execution_count": 2,
   "metadata": {},
   "outputs": [],
   "source": [
    "fo = open('rohtith_filehandle.txt','w')\n",
    "fo.close()"
   ]
  },
  {
   "cell_type": "markdown",
   "metadata": {},
   "source": [
    "Writing Data into File\n",
    "* write, writelines"
   ]
  },
  {
   "cell_type": "code",
   "execution_count": 3,
   "metadata": {},
   "outputs": [],
   "source": [
    "fo = open('rohith_filehandle.txt','w')\n",
    "fo.write('Hello')\n",
    "fo.write('welcome')\n",
    "fo.close()"
   ]
  },
  {
   "cell_type": "code",
   "execution_count": 5,
   "metadata": {},
   "outputs": [],
   "source": [
    "fo = open('rohith_filehandle.txt','w')\n",
    "\n",
    "fo.write('Hello')\n",
    "fo.write('welcome')\n",
    "\n",
    "l = ['\\nThis\\n','is\\n','Files\\n','concept\\n']\n",
    "fo.writelines(l)\n",
    "\n",
    "fo.close()"
   ]
  },
  {
   "cell_type": "markdown",
   "metadata": {},
   "source": [
    "Reading Data from File\n",
    "* read, readline, readlines"
   ]
  },
  {
   "cell_type": "code",
   "execution_count": 6,
   "metadata": {},
   "outputs": [
    {
     "name": "stdout",
     "output_type": "stream",
     "text": [
      "Hellowelcome\n",
      "This\n",
      "is\n",
      "Files\n",
      "concept\n",
      "\n"
     ]
    }
   ],
   "source": [
    "fo = open('rohith_filehandle.txt','r')\n",
    "print(fo.read())\n",
    "fo.close()"
   ]
  },
  {
   "cell_type": "code",
   "execution_count": 7,
   "metadata": {},
   "outputs": [
    {
     "name": "stdout",
     "output_type": "stream",
     "text": [
      "Hello\n"
     ]
    }
   ],
   "source": [
    "fo = open('rohith_filehandle.txt','r')\n",
    "print(fo.read(5))\n",
    "fo.close()"
   ]
  },
  {
   "cell_type": "code",
   "execution_count": 8,
   "metadata": {},
   "outputs": [
    {
     "name": "stdout",
     "output_type": "stream",
     "text": [
      "Hello\n",
      "welco\n"
     ]
    }
   ],
   "source": [
    "fo = open('rohith_filehandle.txt','r')\n",
    "print(fo.read(5))\n",
    "print(fo.read(5))\n",
    "fo.close()"
   ]
  },
  {
   "cell_type": "code",
   "execution_count": 9,
   "metadata": {},
   "outputs": [
    {
     "name": "stdout",
     "output_type": "stream",
     "text": [
      "Hellowelcome\n",
      "\n"
     ]
    }
   ],
   "source": [
    "fo = open('rohith_filehandle.txt','r')\n",
    "print(fo.readline())\n",
    "fo.close()"
   ]
  },
  {
   "cell_type": "code",
   "execution_count": 10,
   "metadata": {},
   "outputs": [
    {
     "name": "stdout",
     "output_type": "stream",
     "text": [
      "Hellowelcome\n",
      "\n",
      "This\n",
      "\n"
     ]
    }
   ],
   "source": [
    "fo = open('rohith_filehandle.txt','r')\n",
    "print(fo.readline())\n",
    "print(fo.readline())\n",
    "fo.close()"
   ]
  },
  {
   "cell_type": "code",
   "execution_count": 11,
   "metadata": {},
   "outputs": [
    {
     "name": "stdout",
     "output_type": "stream",
     "text": [
      "['Hellowelcome\\n', 'This\\n', 'is\\n', 'Files\\n', 'concept\\n']\n"
     ]
    }
   ],
   "source": [
    "fo = open('rohith_filehandle.txt','r')\n",
    "print(fo.readlines())\n",
    "fo.close()"
   ]
  },
  {
   "cell_type": "markdown",
   "metadata": {},
   "source": [
    "File Handling functions\n",
    "* tell, seek"
   ]
  },
  {
   "cell_type": "code",
   "execution_count": 13,
   "metadata": {},
   "outputs": [
    {
     "name": "stdout",
     "output_type": "stream",
     "text": [
      "0\n",
      "5\n"
     ]
    }
   ],
   "source": [
    "fo = open('rohith_filehandle.txt','w')\n",
    "print(fo.tell())\n",
    "fo.write('Hello')\n",
    "print(fo.tell())\n",
    "fo.close()"
   ]
  },
  {
   "cell_type": "code",
   "execution_count": 15,
   "metadata": {},
   "outputs": [
    {
     "name": "stdout",
     "output_type": "stream",
     "text": [
      "5\n",
      "23\n"
     ]
    }
   ],
   "source": [
    "fo = open('rohith_filehandle.txt','a')\n",
    "print(fo.tell())\n",
    "fo.write(' welcome to python')\n",
    "print(fo.tell())\n",
    "fo.close()"
   ]
  },
  {
   "cell_type": "code",
   "execution_count": 16,
   "metadata": {},
   "outputs": [
    {
     "name": "stdout",
     "output_type": "stream",
     "text": [
      "Hello welcome to python\n"
     ]
    }
   ],
   "source": [
    "fo = open('rohith_filehandle.txt','r')\n",
    "print(fo.readline())\n",
    "fo.close()"
   ]
  },
  {
   "cell_type": "code",
   "execution_count": 19,
   "metadata": {},
   "outputs": [
    {
     "name": "stdout",
     "output_type": "stream",
     "text": [
      "23\n",
      "5\n"
     ]
    }
   ],
   "source": [
    "fo = open('rohith_filehandle.txt','a')\n",
    "print(fo.tell())\n",
    "\n",
    "fo.seek(5)\n",
    "#fo.write(' world')\n",
    "\n",
    "print(fo.tell())\n",
    "\n",
    "fo.close()"
   ]
  },
  {
   "cell_type": "markdown",
   "metadata": {},
   "source": [
    "Usage of WITH keyword in Files"
   ]
  },
  {
   "cell_type": "code",
   "execution_count": 21,
   "metadata": {},
   "outputs": [
    {
     "name": "stdout",
     "output_type": "stream",
     "text": [
      "Hello welcome to python\n"
     ]
    }
   ],
   "source": [
    "with open('rohith_filehandle.txt','r') as fo:\n",
    "    print(fo.readline())"
   ]
  }
 ],
 "metadata": {
  "kernelspec": {
   "display_name": "Python 3",
   "language": "python",
   "name": "python3"
  },
  "language_info": {
   "codemirror_mode": {
    "name": "ipython",
    "version": 3
   },
   "file_extension": ".py",
   "mimetype": "text/x-python",
   "name": "python",
   "nbconvert_exporter": "python",
   "pygments_lexer": "ipython3",
   "version": "3.8.5"
  }
 },
 "nbformat": 4,
 "nbformat_minor": 4
}
