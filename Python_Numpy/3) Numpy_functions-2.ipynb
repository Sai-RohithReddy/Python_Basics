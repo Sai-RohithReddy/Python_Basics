{
 "cells": [
  {
   "cell_type": "markdown",
   "metadata": {},
   "source": [
    "# ARRAYS WITH NUMERICAL RANGES\n",
    "\n",
    "* ARANGE()\n",
    "* LINSPACE()\n",
    "* LOGSPACE()\n",
    "\n",
    "* In all 3 functions we need to pass NUMERICAL RANGE. And it will returns array with value in given range and required datatype. \"start index, stop index, dtype\" are the common parameters in above functions."
   ]
  },
  {
   "cell_type": "markdown",
   "metadata": {},
   "source": [
    "arange(start index, stop index, step size, dtype)"
   ]
  },
  {
   "cell_type": "code",
   "execution_count": 1,
   "metadata": {},
   "outputs": [],
   "source": [
    "import numpy as np"
   ]
  },
  {
   "cell_type": "code",
   "execution_count": 2,
   "metadata": {},
   "outputs": [
    {
     "data": {
      "text/plain": [
       "array([0, 2, 4, 6, 8])"
      ]
     },
     "execution_count": 2,
     "metadata": {},
     "output_type": "execute_result"
    }
   ],
   "source": [
    "np.arange(0,10,2,dtype='int')"
   ]
  },
  {
   "cell_type": "code",
   "execution_count": 3,
   "metadata": {},
   "outputs": [
    {
     "name": "stdout",
     "output_type": "stream",
     "text": [
      "[0 2 4 6 8]\n"
     ]
    }
   ],
   "source": [
    "arr = np.arange(0,10,2,dtype='int')\n",
    "print(arr)"
   ]
  },
  {
   "cell_type": "markdown",
   "metadata": {},
   "source": [
    "linespace(start index, stop index, num, endpoint, retstep, dtype)\n",
    "\n",
    "* start index -> lower boundary values\n",
    "* stop index -> upper boundary values\n",
    "* num -> number of required values in array, oprional, default = 50\n",
    "* endpoint -> TRUE - stop index will be included\n",
    "              FALSE - stop index will not be included\n",
    "              optional\n",
    "              default = TRUE\n",
    "* retstep -> Defference between values, optional\n",
    "            TRUE - visible\n",
    "            FALSE - not visible.\n",
    "            default = FALSE"
   ]
  },
  {
   "cell_type": "code",
   "execution_count": 4,
   "metadata": {},
   "outputs": [
    {
     "name": "stdout",
     "output_type": "stream",
     "text": [
      "[ 0.   2.5  5.   7.5 10. ]\n"
     ]
    }
   ],
   "source": [
    "arr1 = np.linspace(0,10,5)\n",
    "print(arr1)"
   ]
  },
  {
   "cell_type": "code",
   "execution_count": 9,
   "metadata": {},
   "outputs": [
    {
     "name": "stdout",
     "output_type": "stream",
     "text": [
      "[ 0.          0.20408163  0.40816327  0.6122449   0.81632653  1.02040816\n",
      "  1.2244898   1.42857143  1.63265306  1.83673469  2.04081633  2.24489796\n",
      "  2.44897959  2.65306122  2.85714286  3.06122449  3.26530612  3.46938776\n",
      "  3.67346939  3.87755102  4.08163265  4.28571429  4.48979592  4.69387755\n",
      "  4.89795918  5.10204082  5.30612245  5.51020408  5.71428571  5.91836735\n",
      "  6.12244898  6.32653061  6.53061224  6.73469388  6.93877551  7.14285714\n",
      "  7.34693878  7.55102041  7.75510204  7.95918367  8.16326531  8.36734694\n",
      "  8.57142857  8.7755102   8.97959184  9.18367347  9.3877551   9.59183673\n",
      "  9.79591837 10.        ]\n"
     ]
    }
   ],
   "source": [
    "arr1 = np.linspace(0,10)# by default 50 elements.\n",
    "print(arr1)"
   ]
  },
  {
   "cell_type": "code",
   "execution_count": 5,
   "metadata": {},
   "outputs": [
    {
     "name": "stdout",
     "output_type": "stream",
     "text": [
      "[0. 2. 4. 6. 8.]\n"
     ]
    }
   ],
   "source": [
    "arr1 = np.linspace(0,10,5,endpoint=False)\n",
    "print(arr1)"
   ]
  },
  {
   "cell_type": "code",
   "execution_count": 7,
   "metadata": {},
   "outputs": [
    {
     "name": "stdout",
     "output_type": "stream",
     "text": [
      "(array([0., 2., 4., 6., 8.]), 2.0)\n"
     ]
    }
   ],
   "source": [
    "arr1 = np.linspace(0,10,5,endpoint=False,retstep=True)\n",
    "print(arr1)"
   ]
  },
  {
   "cell_type": "code",
   "execution_count": 11,
   "metadata": {},
   "outputs": [
    {
     "name": "stdout",
     "output_type": "stream",
     "text": [
      "(array([ 0.        ,  0.52631579,  1.05263158,  1.57894737,  2.10526316,\n",
      "        2.63157895,  3.15789474,  3.68421053,  4.21052632,  4.73684211,\n",
      "        5.26315789,  5.78947368,  6.31578947,  6.84210526,  7.36842105,\n",
      "        7.89473684,  8.42105263,  8.94736842,  9.47368421, 10.        ]), 0.5263157894736842)\n"
     ]
    }
   ],
   "source": [
    "arr1 = np.linspace(0,10,20,endpoint=True,retstep=True,dtype='float')\n",
    "print(arr1)"
   ]
  },
  {
   "cell_type": "markdown",
   "metadata": {},
   "source": [
    "logspace()"
   ]
  },
  {
   "cell_type": "markdown",
   "metadata": {},
   "source": [
    "logspace(start index, stop indes, num, end point, base, dtype)\n",
    "\n",
    "* num -> no of values required, default = 50, optional\n",
    "* base -> base of log value, default = 10, oprional"
   ]
  },
  {
   "cell_type": "code",
   "execution_count": 13,
   "metadata": {},
   "outputs": [
    {
     "data": {
      "text/plain": [
       "array([1.00000000e+00, 3.16227766e+02, 1.00000000e+05, 3.16227766e+07])"
      ]
     },
     "execution_count": 13,
     "metadata": {},
     "output_type": "execute_result"
    }
   ],
   "source": [
    "np.logspace(0,10,num = 4, endpoint=False)"
   ]
  },
  {
   "cell_type": "code",
   "execution_count": 12,
   "metadata": {},
   "outputs": [
    {
     "name": "stdout",
     "output_type": "stream",
     "text": [
      "[1.00000000e+00 3.16227766e+02 1.00000000e+05 3.16227766e+07]\n"
     ]
    }
   ],
   "source": [
    "arr2 = np.logspace(0,10,num = 4, endpoint=False)\n",
    "print(arr2)"
   ]
  },
  {
   "cell_type": "code",
   "execution_count": 14,
   "metadata": {},
   "outputs": [
    {
     "name": "stdout",
     "output_type": "stream",
     "text": [
      "[  1.           5.65685425  32.         181.01933598]\n"
     ]
    }
   ],
   "source": [
    "arr2 = np.logspace(0,10,num = 4, endpoint=False,base=2)\n",
    "print(arr2)"
   ]
  },
  {
   "cell_type": "code",
   "execution_count": 15,
   "metadata": {},
   "outputs": [
    {
     "name": "stdout",
     "output_type": "stream",
     "text": [
      "[  1.           1.14869835   1.31950791   1.51571657   1.74110113\n",
      "   2.           2.29739671   2.63901582   3.03143313   3.48220225\n",
      "   4.           4.59479342   5.27803164   6.06286627   6.96440451\n",
      "   8.           9.18958684  10.55606329  12.12573253  13.92880901\n",
      "  16.          18.37917368  21.11212657  24.25146506  27.85761803\n",
      "  32.          36.75834736  42.22425314  48.50293013  55.71523605\n",
      "  64.          73.51669472  84.44850629  97.00586026 111.4304721\n",
      " 128.         147.03338944 168.89701258 194.01172051 222.8609442\n",
      " 256.         294.06677888 337.79402516 388.02344103 445.72188841\n",
      " 512.         588.13355776 675.58805032 776.04688205 891.44377682]\n"
     ]
    }
   ],
   "source": [
    "arr2 = np.logspace(0,10, endpoint=False, base=2) # by defult it will take 50 if we will not mention \"num\" \n",
    "print(arr2)"
   ]
  },
  {
   "cell_type": "code",
   "execution_count": 16,
   "metadata": {},
   "outputs": [
    {
     "name": "stdout",
     "output_type": "stream",
     "text": [
      "[          1           1           2           3           6          10\n",
      "          15          25          39          63         100         158\n",
      "         251         398         630        1000        1584        2511\n",
      "        3981        6309       10000       15848       25118       39810\n",
      "       63095      100000      158489      251188      398107      630957\n",
      "     1000000     1584893     2511886     3981071     6309573    10000000\n",
      "    15848931    25118864    39810717    63095734   100000000   158489319\n",
      "   251188643   398107170   630957344  1000000000  1584893192 -2147483648\n",
      " -2147483648 -2147483648]\n"
     ]
    }
   ],
   "source": [
    "arr2 = np.logspace(0,10, endpoint=False,dtype='int')\n",
    "print(arr2)"
   ]
  },
  {
   "cell_type": "code",
   "execution_count": null,
   "metadata": {},
   "outputs": [],
   "source": []
  }
 ],
 "metadata": {
  "kernelspec": {
   "display_name": "Python 3 (ipykernel)",
   "language": "python",
   "name": "python3"
  },
  "language_info": {
   "codemirror_mode": {
    "name": "ipython",
    "version": 3
   },
   "file_extension": ".py",
   "mimetype": "text/x-python",
   "name": "python",
   "nbconvert_exporter": "python",
   "pygments_lexer": "ipython3",
   "version": "3.9.12"
  }
 },
 "nbformat": 4,
 "nbformat_minor": 4
}
