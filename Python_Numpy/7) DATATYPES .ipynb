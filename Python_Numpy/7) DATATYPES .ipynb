{
 "cells": [
  {
   "cell_type": "markdown",
   "metadata": {},
   "source": [
    "Attribute to represent data type of an array is 'dtype'\n",
    "* i - int\n",
    "* f - float\n",
    "* S - string\n",
    "* U - unicode staring\n",
    "* m - timedelta\n",
    "* M - datetime\n",
    "* O - object\n",
    "* v - void"
   ]
  },
  {
   "cell_type": "code",
   "execution_count": 1,
   "metadata": {},
   "outputs": [],
   "source": [
    "import numpy as np"
   ]
  },
  {
   "cell_type": "code",
   "execution_count": 4,
   "metadata": {},
   "outputs": [
    {
     "name": "stdout",
     "output_type": "stream",
     "text": [
      "['1' '2' 'a']\n",
      "<U11\n"
     ]
    }
   ],
   "source": [
    "a = np.array([1,2,'a'])\n",
    "print(a)\n",
    "print(a.dtype)"
   ]
  },
  {
   "cell_type": "code",
   "execution_count": 5,
   "metadata": {},
   "outputs": [
    {
     "name": "stdout",
     "output_type": "stream",
     "text": [
      "[1 2]\n",
      "int32\n"
     ]
    }
   ],
   "source": [
    "a = np.array([1,2])\n",
    "print(a)\n",
    "print(a.dtype)"
   ]
  },
  {
   "cell_type": "code",
   "execution_count": 8,
   "metadata": {},
   "outputs": [
    {
     "name": "stdout",
     "output_type": "stream",
     "text": [
      "[1. 2. 3.]\n",
      "float32\n"
     ]
    }
   ],
   "source": [
    "a = np.array([1,2,3],dtype='f')\n",
    "print(a)\n",
    "print(a.dtype)"
   ]
  },
  {
   "cell_type": "code",
   "execution_count": 10,
   "metadata": {},
   "outputs": [
    {
     "name": "stdout",
     "output_type": "stream",
     "text": [
      "['1.0' '2.0' '3.0']\n"
     ]
    }
   ],
   "source": [
    "x = a.astype('U')\n",
    "print(x)"
   ]
  },
  {
   "cell_type": "code",
   "execution_count": 11,
   "metadata": {},
   "outputs": [
    {
     "name": "stdout",
     "output_type": "stream",
     "text": [
      "[10  0 30  0 50]\n",
      "int32\n",
      "[ True False  True False  True]\n",
      "bool\n"
     ]
    }
   ],
   "source": [
    "a = np.array([10,0,30,0,50])\n",
    "print(a)\n",
    "print(a.dtype)\n",
    "\n",
    "b = a.astype('bool')\n",
    "print(b)\n",
    "print(b.dtype)"
   ]
  },
  {
   "cell_type": "markdown",
   "metadata": {},
   "source": [
    "# copy()\n",
    "\n",
    "* External copy\n",
    "* If any one element is modified then it will not reflect to another array\n",
    "* Two arrays"
   ]
  },
  {
   "cell_type": "code",
   "execution_count": 18,
   "metadata": {},
   "outputs": [
    {
     "name": "stdout",
     "output_type": "stream",
     "text": [
      "a= [1 2 4]\n",
      "b= [1 2 4]\n",
      "\n",
      "a= [1 2 4]\n",
      "b= [1 2 3]\n",
      "None\n",
      "None\n"
     ]
    }
   ],
   "source": [
    "a = np.array([1,2,4])\n",
    "b = a.copy()\n",
    "\n",
    "print('a=',a)\n",
    "print('b=',b)\n",
    "print('')\n",
    "b[2] = 3\n",
    "print('a=',a)\n",
    "print('b=',b)\n",
    "\n",
    "print(a.base)\n",
    "print(b.base)"
   ]
  },
  {
   "cell_type": "markdown",
   "metadata": {},
   "source": [
    "# view()\n",
    "\n",
    "* Creats a reference to existing array\n",
    "* If any one element is modified then it will be reflected on original array\n",
    "* Only one array"
   ]
  },
  {
   "cell_type": "code",
   "execution_count": 19,
   "metadata": {},
   "outputs": [
    {
     "name": "stdout",
     "output_type": "stream",
     "text": [
      "a= [1 2 4]\n",
      "b= [1 2 4]\n",
      "\n",
      "a= [1 2 3]\n",
      "b= [1 2 3]\n",
      "None\n",
      "[1 2 3]\n"
     ]
    }
   ],
   "source": [
    "a = np.array([1,2,4])\n",
    "b = a.view()\n",
    "\n",
    "print('a=',a)\n",
    "print('b=',b)\n",
    "print('')\n",
    "b[2] = 3\n",
    "print('a=',a)\n",
    "print('b=',b)\n",
    "\n",
    "print(a.base)\n",
    "print(b.base)"
   ]
  },
  {
   "cell_type": "code",
   "execution_count": null,
   "metadata": {},
   "outputs": [],
   "source": []
  }
 ],
 "metadata": {
  "kernelspec": {
   "display_name": "Python 3 (ipykernel)",
   "language": "python",
   "name": "python3"
  },
  "language_info": {
   "codemirror_mode": {
    "name": "ipython",
    "version": 3
   },
   "file_extension": ".py",
   "mimetype": "text/x-python",
   "name": "python",
   "nbconvert_exporter": "python",
   "pygments_lexer": "ipython3",
   "version": "3.9.12"
  }
 },
 "nbformat": 4,
 "nbformat_minor": 4
}
