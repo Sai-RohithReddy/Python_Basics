{
 "cells": [
  {
   "cell_type": "markdown",
   "metadata": {},
   "source": [
    "# Marker \n",
    "It means representation of a point on a line or in a graph/chart\n",
    "plot(x, y, marker=\"\", mec=\"\", mfc=\"\", ms=\"\")\n",
    "\n",
    "# Styles\n",
    "* o = circle\n",
    "* s = square\n",
    "* d = dimand\n",
    "* p = pentagon\n",
    "* h = hexagon\n",
    "* . = point\n",
    "* * = star\n",
    "* + = plus\n",
    "* | = vline\n",
    "* _ = hline\n",
    "* ^ = triangle\n",
    "* < = left triangle\n",
    "* > = right triangle\n",
    "\n",
    "# Color\n",
    "* edge color = mec ->to add edge color\n",
    "* face color = mfc ->to add face color\n",
    "\n",
    "Colors has to be represented in single character\n",
    "* r = red \n",
    "* b = blue\n",
    "* w = white\n",
    "* k = black \n",
    "* c = cyan\n",
    "* m = magneta\n",
    "\n",
    "we can also use Hexadecimal for more color representation\n",
    "* #RGB\n",
    "    * R from 00->FF (two bits)\n",
    "    * G from 00->FF\n",
    "    * B from 00->FF\n",
    "* #112233\n",
    "\n",
    "# Size \n",
    "* sm=\"\""
   ]
  },
  {
   "cell_type": "code",
   "execution_count": 1,
   "metadata": {},
   "outputs": [],
   "source": [
    "from matplotlib import pyplot as plt"
   ]
  },
  {
   "cell_type": "code",
   "execution_count": 24,
   "metadata": {},
   "outputs": [
    {
     "data": {
      "image/png": "[encoded data removed]",
      "text/plain": [
       "<Figure size 432x288 with 1 Axes>"
      ]
     },
     "metadata": {
      "needs_background": "light"
     },
     "output_type": "display_data"
    }
   ],
   "source": [
    "x=[1,2,3,4,5]\n",
    "y=[1,2,3,4,5]\n",
    "plt.plot(x, y, marker=\"o\", ms=\"9\",mec='#00aaff',mfc='w')\n",
    "plt.title('Example for Marker')\n",
    "plt.show()"
   ]
  },
  {
   "cell_type": "code",
   "execution_count": null,
   "metadata": {},
   "outputs": [],
   "source": []
  }
 ],
 "metadata": {
  "kernelspec": {
   "display_name": "Python 3",
   "language": "python",
   "name": "python3"
  },
  "language_info": {
   "codemirror_mode": {
    "name": "ipython",
    "version": 3
   },
   "file_extension": ".py",
   "mimetype": "text/x-python",
   "name": "python",
   "nbconvert_exporter": "python",
   "pygments_lexer": "ipython3",
   "version": "3.8.5"
  }
 },
 "nbformat": 4,
 "nbformat_minor": 4
}
